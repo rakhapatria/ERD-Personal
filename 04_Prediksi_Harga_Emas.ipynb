{
  "nbformat": 4,
  "nbformat_minor": 0,
  "metadata": {
    "colab": {
      "name": "04 Prediksi Harga Emas",
      "provenance": [],
      "collapsed_sections": [],
      "include_colab_link": true
    },
    "kernelspec": {
      "name": "python3",
      "display_name": "Python 3"
    },
    "language_info": {
      "name": "python"
    }
  },
  "cells": [
    {
      "cell_type": "markdown",
      "metadata": {
        "id": "view-in-github",
        "colab_type": "text"
      },
      "source": [
        "<a href=\"https://colab.research.google.com/github/rakhapatria/ERD-Personal/blob/main/04_Prediksi_Harga_Emas.ipynb\" target=\"_parent\"><img src=\"https://colab.research.google.com/assets/colab-badge.svg\" alt=\"Open In Colab\"/></a>"
      ]
    },
    {
      "cell_type": "markdown",
      "metadata": {
        "id": "dOZAplxgmCW2"
      },
      "source": [
        "# **Prediksi Harga Emas**\n",
        "\n",
        "![](https://akcdn.detik.net.id/visual/2021/01/18/harga-emas-antam-turun-2_169.jpeg?w=650)"
      ]
    },
    {
      "cell_type": "markdown",
      "metadata": {
        "id": "QmBsHBj7mmrG"
      },
      "source": [
        "## Load Dataset"
      ]
    },
    {
      "cell_type": "code",
      "metadata": {
        "id": "Gtn3JK29ikg3"
      },
      "source": [
        "import pandas as pd\n",
        "\n",
        "gold = pd.read_csv('https://datahub.io/core/gold-prices/r/monthly.csv')"
      ],
      "execution_count": null,
      "outputs": []
    },
    {
      "cell_type": "markdown",
      "metadata": {
        "id": "41oFHVPTcOpr"
      },
      "source": [
        "## *Exploratory Data Analysis*"
      ]
    },
    {
      "cell_type": "markdown",
      "metadata": {
        "id": "FdLbsLDMDoO8"
      },
      "source": [
        "\"*Dataset* terdiri dari berapa baris dan kolom?\""
      ]
    },
    {
      "cell_type": "code",
      "metadata": {
        "id": "EVE7WREeDsRi"
      },
      "source": [
        "gold.shape"
      ],
      "execution_count": null,
      "outputs": []
    },
    {
      "cell_type": "markdown",
      "metadata": {
        "id": "S7ZQl74WINdF"
      },
      "source": [
        "\"Kolom/*feature* apa saja yang ada pada *dataset*?\""
      ]
    },
    {
      "cell_type": "code",
      "metadata": {
        "id": "i1bStzabm1GF"
      },
      "source": [
        "gold.columns"
      ],
      "execution_count": null,
      "outputs": []
    },
    {
      "cell_type": "markdown",
      "metadata": {
        "id": "lS8Lql1km4MI"
      },
      "source": [
        "*Dataset* berformat *time series* satu dimensi."
      ]
    },
    {
      "cell_type": "markdown",
      "metadata": {
        "id": "NllEB7RQ_kKG"
      },
      "source": [
        "\"Tampilkan sebagian isi dari data.\""
      ]
    },
    {
      "cell_type": "code",
      "metadata": {
        "id": "XsHcdNrD_eMj"
      },
      "source": [
        "gold.head()"
      ],
      "execution_count": null,
      "outputs": []
    },
    {
      "cell_type": "code",
      "metadata": {
        "id": "2LuDvlAUo9Nq"
      },
      "source": [
        "gold.sample(10)"
      ],
      "execution_count": null,
      "outputs": []
    },
    {
      "cell_type": "markdown",
      "metadata": {
        "id": "prFk9PDcB4o7"
      },
      "source": [
        "\"Tampilkan informasi statistik tentang *dataset*.\""
      ]
    },
    {
      "cell_type": "code",
      "metadata": {
        "id": "GHH94iv8llvm"
      },
      "source": [
        "gold.describe()"
      ],
      "execution_count": null,
      "outputs": []
    },
    {
      "cell_type": "markdown",
      "metadata": {
        "id": "FUvXxNcXHUSt"
      },
      "source": [
        "\"Tampilkan tipe data dan jumlah baris data pada *dataset*.\""
      ]
    },
    {
      "cell_type": "code",
      "metadata": {
        "id": "gKanL4IfDjEv"
      },
      "source": [
        "gold.info()"
      ],
      "execution_count": null,
      "outputs": []
    },
    {
      "cell_type": "markdown",
      "metadata": {
        "id": "ew-jhc2dHdDU"
      },
      "source": [
        "\"Apakah *dataset* mengandung *missing value*?\""
      ]
    },
    {
      "cell_type": "code",
      "metadata": {
        "id": "OOaZrGkSI9qy"
      },
      "source": [
        "gold.isnull().sum()"
      ],
      "execution_count": null,
      "outputs": []
    },
    {
      "cell_type": "markdown",
      "metadata": {
        "id": "1EwGOeyIqJed"
      },
      "source": [
        "Tidak ada *missing value*."
      ]
    },
    {
      "cell_type": "markdown",
      "metadata": {
        "id": "GjsUc3yrc6th"
      },
      "source": [
        "## Visualisasi"
      ]
    },
    {
      "cell_type": "markdown",
      "metadata": {
        "id": "fD0BSZT3P0Kl"
      },
      "source": [
        "Impor *library* yang diperlukan: matplotlib."
      ]
    },
    {
      "cell_type": "code",
      "metadata": {
        "id": "QE3yQTPwKJwd"
      },
      "source": [
        "from matplotlib import pyplot as plt"
      ],
      "execution_count": null,
      "outputs": []
    },
    {
      "cell_type": "markdown",
      "metadata": {
        "id": "zoU7JDnrqB3y"
      },
      "source": [
        "\n",
        "\"Tampilkan data dalam bentuk grafik garis.\""
      ]
    },
    {
      "cell_type": "code",
      "metadata": {
        "id": "Qpq0_iM7AXDL"
      },
      "source": [
        "# Mengubah ukuran grafik\n",
        "plt.figure(figsize=(15, 8))\n",
        "\n",
        "plt.plot(gold.Price)"
      ],
      "execution_count": null,
      "outputs": []
    },
    {
      "cell_type": "markdown",
      "metadata": {
        "id": "qoKlMrBMcfUp"
      },
      "source": [
        "## Prediksi"
      ]
    },
    {
      "cell_type": "markdown",
      "metadata": {
        "id": "zgb3HRmNdWmU"
      },
      "source": [
        "Kita lihat lagi bentuk data."
      ]
    },
    {
      "cell_type": "code",
      "metadata": {
        "id": "VT8xDksEdUaP"
      },
      "source": [
        "gold.head()"
      ],
      "execution_count": null,
      "outputs": []
    },
    {
      "cell_type": "markdown",
      "metadata": {
        "id": "wn-vsKjJdir6"
      },
      "source": [
        "Kita juga lihat lagi format datanya."
      ]
    },
    {
      "cell_type": "code",
      "metadata": {
        "id": "laqZlIPIdfXC"
      },
      "source": [
        "gold.info()"
      ],
      "execution_count": null,
      "outputs": []
    },
    {
      "cell_type": "markdown",
      "metadata": {
        "id": "5RBaZ1hkdnYW"
      },
      "source": [
        "\"Date\" sebagai *feature* dari *dataset* memiliki format string sehingga tidak dapat digunakan sebagai *feature*. Maka, kita perlu mengubah bentuknya menjadi bentuk numerik dan kita beri nilai selisih dengan tanggal pada data pertama. *Feature* baru ini kita tambahkan sebagai kolom baru pada DataFrame."
      ]
    },
    {
      "cell_type": "code",
      "metadata": {
        "id": "5F8TVQbjerrm"
      },
      "source": [
        "# Parsing string tanggal\n",
        "datetime = pd.to_datetime(gold.Date, format='%Y-%m')\n",
        "\n",
        "# Menghitung selisih antara setiap tanggal dengan tanggal pertama (1950-01)\n",
        "date_diff = (datetime - datetime[0]).dt.days\n",
        "\n",
        "# Menambahkan nilai selisih ke kolom baru\n",
        "gold.insert(1, 'Date_diff', date_diff)"
      ],
      "execution_count": null,
      "outputs": []
    },
    {
      "cell_type": "code",
      "metadata": {
        "id": "wgAHe0UNi6PE"
      },
      "source": [
        "gold.head()"
      ],
      "execution_count": null,
      "outputs": []
    },
    {
      "cell_type": "markdown",
      "metadata": {
        "id": "R1vEY6rigdqy"
      },
      "source": [
        "Kita lihat tipe data dari kolom yang baru dibuat."
      ]
    },
    {
      "cell_type": "code",
      "metadata": {
        "id": "ZHaud83zgMeb"
      },
      "source": [
        "gold.info()"
      ],
      "execution_count": null,
      "outputs": []
    },
    {
      "cell_type": "markdown",
      "metadata": {
        "id": "6oqNtVAmglsy"
      },
      "source": [
        "Impor *library* untuk melakukan prediksi: **scikit-learn**."
      ]
    },
    {
      "cell_type": "code",
      "metadata": {
        "id": "Q3X_IChKrqbc"
      },
      "source": [
        "from sklearn.linear_model import LinearRegression"
      ],
      "execution_count": null,
      "outputs": []
    },
    {
      "cell_type": "markdown",
      "metadata": {
        "id": "zf_gPin9guBx"
      },
      "source": [
        "Kita memecah *dataset* menjadi dua bagian: data latih (*train*) dan data uji (*test*)."
      ]
    },
    {
      "cell_type": "code",
      "metadata": {
        "id": "ztVR2xvXsn8g"
      },
      "source": [
        "split_point = int(len(gold) * .8)\n",
        "\n",
        "train = gold[:split_point]\n",
        "test = gold[split_point:]\n",
        "\n",
        "print('Split point:', split_point)"
      ],
      "execution_count": null,
      "outputs": []
    },
    {
      "cell_type": "markdown",
      "metadata": {
        "id": "PWowp5dXlvuK"
      },
      "source": [
        "Lakukan regresi."
      ]
    },
    {
      "cell_type": "code",
      "metadata": {
        "id": "HSD_6z-3rxQq"
      },
      "source": [
        "reg = LinearRegression()\n",
        "\n",
        "# Menjalankan algoritma regresi linier\n",
        "reg.fit(train.Date_diff.values.reshape(-1, 1), train.Price)\n",
        "\n",
        "# Menampilkan koefisien m dan c (dari persamaan y=mx+c)\n",
        "print(reg.coef_)\n",
        "print(reg.intercept_)"
      ],
      "execution_count": null,
      "outputs": []
    },
    {
      "cell_type": "markdown",
      "metadata": {
        "id": "MJdB844EE2cJ"
      },
      "source": [
        "\"Tampilkan garis regresi terhadap data latih.\""
      ]
    },
    {
      "cell_type": "code",
      "metadata": {
        "id": "nV4LvOeGEb9C"
      },
      "source": [
        "# Melakukan prediksi berdasarkan persamaan garis yang telah didapatkan dari fungsi fit()\n",
        "pred = reg.predict(train.Date_diff.values.reshape(-1, 1))\n",
        "\n",
        "plt.figure(figsize=(15, 8))\n",
        "plt.plot(train.Price)\n",
        "plt.plot(pred)"
      ],
      "execution_count": null,
      "outputs": []
    },
    {
      "cell_type": "markdown",
      "metadata": {
        "id": "H661CE-cF0W7"
      },
      "source": [
        "\"Tampilkan garis regresi terhadap keseluruhan data.\""
      ]
    },
    {
      "cell_type": "code",
      "metadata": {
        "id": "-FbnXOakAlyG"
      },
      "source": [
        "pred = reg.predict(gold.Date_diff.values.reshape(-1, 1))\n",
        "\n",
        "plt.figure(figsize=(15, 8))\n",
        "plt.plot(gold.Price)\n",
        "plt.plot(pred)"
      ],
      "execution_count": null,
      "outputs": []
    },
    {
      "cell_type": "markdown",
      "metadata": {
        "id": "JWE6CqDIF7-K"
      },
      "source": [
        "\"Tampilkan garis regresi terhadap data uji.\""
      ]
    },
    {
      "cell_type": "code",
      "metadata": {
        "id": "PHLTpb7GF7-L"
      },
      "source": [
        "pred = reg.predict(test.Date_diff.values.reshape(-1, 1))\n",
        "plt.figure(figsize=(15, 8))\n",
        "plt.plot(test.Price.values)\n",
        "plt.plot(pred)"
      ],
      "execution_count": null,
      "outputs": []
    },
    {
      "cell_type": "code",
      "metadata": {
        "id": "AHYEIXWX50Nx"
      },
      "source": [
        "from sklearn.metrics import mean_squared_error\n",
        "\n",
        "print(f'Mean squared error: {mean_squared_error(test.Price, pred)}')"
      ],
      "execution_count": null,
      "outputs": []
    },
    {
      "cell_type": "markdown",
      "metadata": {
        "id": "zlbYnbdnmW0H"
      },
      "source": [
        "Melakukan prediksi dengan input yang diberikan secara manual: (2022 - 1950) * 365 = 26.280"
      ]
    },
    {
      "cell_type": "code",
      "metadata": {
        "id": "nDzPwcfFkqb9"
      },
      "source": [
        "reg.predict([[26280]])"
      ],
      "execution_count": null,
      "outputs": []
    },
    {
      "cell_type": "markdown",
      "metadata": {
        "id": "j1wJsrtnwnWE"
      },
      "source": [
        "## SVR"
      ]
    },
    {
      "cell_type": "code",
      "metadata": {
        "id": "Wuc7fKWLwM2a"
      },
      "source": [
        "from sklearn import svm\n",
        "\n",
        "reg = svm.SVR(kernel='poly')\n",
        "\n",
        "reg.fit(train.Date_diff.values.reshape(-1, 1), train.Price)"
      ],
      "execution_count": null,
      "outputs": []
    },
    {
      "cell_type": "code",
      "metadata": {
        "id": "XNXLO0TzwufX"
      },
      "source": [
        "# Melakukan prediksi berdasarkan persamaan garis yang telah didapatkan dari fungsi fit()\n",
        "pred = reg.predict(train.Date_diff.values.reshape(-1, 1))\n",
        "\n",
        "plt.figure(figsize=(15, 8))\n",
        "plt.plot(train.Price)\n",
        "plt.plot(pred)"
      ],
      "execution_count": null,
      "outputs": []
    },
    {
      "cell_type": "code",
      "metadata": {
        "id": "ph9h4XWgxTtP"
      },
      "source": [
        "pred = reg.predict(gold.Date_diff.values.reshape(-1, 1))\n",
        "\n",
        "plt.figure(figsize=(15, 8))\n",
        "plt.plot(gold.Price)\n",
        "plt.plot(pred)"
      ],
      "execution_count": null,
      "outputs": []
    },
    {
      "cell_type": "code",
      "metadata": {
        "id": "ziznZydqxZrI"
      },
      "source": [
        "print(f'Mean squared error: {mean_squared_error(test.Price, pred)}')"
      ],
      "execution_count": null,
      "outputs": []
    }
  ]
}